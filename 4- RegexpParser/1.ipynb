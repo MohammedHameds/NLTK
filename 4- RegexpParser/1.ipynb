{
 "cells": [
  {
   "cell_type": "code",
   "execution_count": 119,
   "metadata": {},
   "outputs": [],
   "source": [
    "import nltk\n",
    "from nltk.tokenize import sent_tokenize,word_tokenize\n",
    "from nltk.corpus import stopwords\n",
    "from nltk.stem import PorterStemmer\n",
    "from nltk.tag import pos_tag\n",
    "from nltk import RegexpParser\n"
   ]
  },
  {
   "cell_type": "code",
   "execution_count": 162,
   "metadata": {},
   "outputs": [
    {
     "name": "stdout",
     "output_type": "stream",
     "text": [
      "(S\n",
      "  Mohamed/NNP\n",
      "  bought/VBD\n",
      "  (Reg the/DT red/JJ yellow/JJ shirt/NN)\n",
      "  yseterday/NN\n",
      "  from/IN\n",
      "  Egypt/NNP\n",
      "  (Reg the/DT white/JJ house/NN))\n"
     ]
    },
    {
     "data": {
      "text/plain": [
       "['the red yellow shirt ', 'the white house ']"
      ]
     },
     "execution_count": 162,
     "metadata": {},
     "output_type": "execute_result"
    }
   ],
   "source": [
    "\n",
    "txt=\"Mohamed bought the red yellow shirt yseterday from Egypt the white house\"\n",
    "tags=pos_tag(word_tokenize(txt))\n",
    "\n",
    "cp = RegexpParser('Reg: {<DT><JJ>*<NN>}')\n",
    "r = cp.parse(tags)\n",
    "print(r)\n",
    "r.draw()\n",
    "            \n",
    "list_of_reg = []     \n",
    "for i in r :\n",
    "    if (str(type(i)) == \"<class 'nltk.tree.Tree'>\" ) :\n",
    "        word = ''\n",
    "        \n",
    "        for j in i :\n",
    "            word +=  j[0]+' '\n",
    "        list_of_reg.append(word)    \n",
    "           \n",
    "list_of_reg    "
   ]
  }
 ],
 "metadata": {
  "interpreter": {
   "hash": "53d50ed1839d2292cfd39f0644d59e889da85062f836d8db82f8d3a293c0c3a5"
  },
  "kernelspec": {
   "display_name": "Python 3.8.8 ('base')",
   "language": "python",
   "name": "python3"
  },
  "language_info": {
   "codemirror_mode": {
    "name": "ipython",
    "version": 3
   },
   "file_extension": ".py",
   "mimetype": "text/x-python",
   "name": "python",
   "nbconvert_exporter": "python",
   "pygments_lexer": "ipython3",
   "version": "3.8.8"
  },
  "orig_nbformat": 4
 },
 "nbformat": 4,
 "nbformat_minor": 2
}
