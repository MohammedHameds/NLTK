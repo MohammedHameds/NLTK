{
 "cells": [
  {
   "cell_type": "code",
   "execution_count": 55,
   "metadata": {},
   "outputs": [],
   "source": [
    "from nltk.corpus import wordnet"
   ]
  },
  {
   "cell_type": "code",
   "execution_count": 56,
   "metadata": {},
   "outputs": [],
   "source": [
    "syns = wordnet.synsets('good')"
   ]
  },
  {
   "cell_type": "code",
   "execution_count": 57,
   "metadata": {},
   "outputs": [
    {
     "name": "stdout",
     "output_type": "stream",
     "text": [
      "[Synset('good.n.01'), Synset('good.n.02'), Synset('good.n.03'), Synset('commodity.n.01'), Synset('good.a.01'), Synset('full.s.06'), Synset('good.a.03'), Synset('estimable.s.02'), Synset('beneficial.s.01'), Synset('good.s.06'), Synset('good.s.07'), Synset('adept.s.01'), Synset('good.s.09'), Synset('dear.s.02'), Synset('dependable.s.04'), Synset('good.s.12'), Synset('good.s.13'), Synset('effective.s.04'), Synset('good.s.15'), Synset('good.s.16'), Synset('good.s.17'), Synset('good.s.18'), Synset('good.s.19'), Synset('good.s.20'), Synset('good.s.21'), Synset('well.r.01'), Synset('thoroughly.r.02')]\n",
      "Synset('good.n.01')\n",
      "good.n.01\n",
      "good\n",
      "good\n",
      "benefit\n",
      "['for your own good', \"what's the good of worrying?\"]\n",
      "bad\n"
     ]
    }
   ],
   "source": [
    "print(syns)\n",
    "print(syns[0])\n",
    "print(syns[0].name())\n",
    "print(syns[0].lemmas()[0].name())\n",
    "print(syns[0].name().split('.')[0])\n",
    "print(syns[0].definition())\n",
    "print(syns[0].examples())\n",
    "print(syns[2].lemmas()[0].antonyms()[0].name())"
   ]
  },
  {
   "cell_type": "code",
   "execution_count": 58,
   "metadata": {},
   "outputs": [],
   "source": [
    "def wordnet_functions(word):\n",
    "    synonyms = []\n",
    "    antonyms = []\n",
    "    definition = []\n",
    "    examples = []\n",
    "    syns = wordnet.synsets(word)    \n",
    "    for i in syns :\n",
    "      synonyms.append(i.lemmas()[0].name())\n",
    "      definition.append(i.definition())\n",
    "      if (i.examples()) : examples.append(i.examples()[0])\n",
    "      \n",
    "      if i.lemmas()[0].antonyms():\n",
    "         antonyms.append(i.lemmas()[0].antonyms()[0].name())\n",
    "    return list(set(synonyms)),list(set(antonyms)) ,list(set(definition)),list(set(examples))\n"
   ]
  },
  {
   "cell_type": "code",
   "execution_count": 59,
   "metadata": {},
   "outputs": [
    {
     "name": "stdout",
     "output_type": "stream",
     "text": [
      "synonyms: ['large', 'big', 'boastfully', 'bombastic']\n",
      "-----------------------\n",
      "antonyms: ['small']\n",
      "-----------------------\n",
      "definition: ['in an advanced stage of pregnancy', 'above average in size or number or quantity or magnitude or extent', 'conspicuous in position or importance', 'a garment size for a large person', 'ostentatiously lofty in style', 'generous and understanding and tolerant', 'at a distance, wide of something (as of a mark)', 'fairly large or important in effect; influential', 'in a boastful manner', 'having broad power and range and scope', 'with the wind abaft the beam']\n",
      "-----------------------\n",
      "examples: ['taking the large view', 'was big with child', 'a heart big enough to hold no grudges', 'played a large role in the negotiations', 'a big figure in the movement', 'a ship sailing large', 'a man given to large talk', 'he talked big all evening', 'a large city']\n"
     ]
    }
   ],
   "source": [
    "input_word = input('Enter a word:')\n",
    "synonyms,antonyms,definition,examples = wordnet_functions(input_word)\n",
    "print('synonyms:',synonyms)\n",
    "print('-----------------------')\n",
    "print('antonyms:',antonyms)\n",
    "print('-----------------------')\n",
    "print('definition:',definition)\n",
    "print('-----------------------')\n",
    "print('examples:',examples)"
   ]
  },
  {
   "cell_type": "code",
   "execution_count": 60,
   "metadata": {},
   "outputs": [
    {
     "name": "stdout",
     "output_type": "stream",
     "text": [
      "0.9090909090909091\n"
     ]
    }
   ],
   "source": [
    "w1 = wordnet.synset('ship.n.01')\n",
    "w2 = wordnet.synset('boat.n.01') # n denotes noun\n",
    "print(w1.wup_similarity(w2))"
   ]
  }
 ],
 "metadata": {
  "kernelspec": {
   "display_name": "Python 3.8.8 ('base')",
   "language": "python",
   "name": "python3"
  },
  "language_info": {
   "codemirror_mode": {
    "name": "ipython",
    "version": 3
   },
   "file_extension": ".py",
   "mimetype": "text/x-python",
   "name": "python",
   "nbconvert_exporter": "python",
   "pygments_lexer": "ipython3",
   "version": "3.8.8"
  },
  "orig_nbformat": 4,
  "vscode": {
   "interpreter": {
    "hash": "53d50ed1839d2292cfd39f0644d59e889da85062f836d8db82f8d3a293c0c3a5"
   }
  }
 },
 "nbformat": 4,
 "nbformat_minor": 2
}
