{
 "cells": [
  {
   "cell_type": "code",
   "execution_count": 1,
   "metadata": {},
   "outputs": [
    {
     "name": "stdout",
     "output_type": "stream",
     "text": [
      "FFF\n"
     ]
    }
   ],
   "source": [
    "# To upper case\n",
    "string = input(\"Enter a string: \")\n",
    "string = string.upper()\n",
    "print(string)"
   ]
  },
  {
   "cell_type": "code",
   "execution_count": 2,
   "metadata": {},
   "outputs": [
    {
     "name": "stdout",
     "output_type": "stream",
     "text": [
      "dddd\n"
     ]
    }
   ],
   "source": [
    "# To lower case\n",
    "string = input(\"Enter a string: \")\n",
    "string = string.lower()\n",
    "print(string)"
   ]
  },
  {
   "cell_type": "code",
   "execution_count": 3,
   "metadata": {},
   "outputs": [
    {
     "name": "stdout",
     "output_type": "stream",
     "text": [
      "My name is augutus\n"
     ]
    }
   ],
   "source": [
    "# Capitalize first char of sentence\n",
    "string = input(\"Enter a string: \")\n",
    "string = string.capitalize()\n",
    "print(string)"
   ]
  },
  {
   "cell_type": "code",
   "execution_count": 5,
   "metadata": {},
   "outputs": [
    {
     "name": "stdout",
     "output_type": "stream",
     "text": [
      "My Name Is Augustus\n"
     ]
    }
   ],
   "source": [
    "# Capitalize first char of every word\n",
    "string = input(\"Enter a string: \")\n",
    "string = string.title()\n",
    "print(string)"
   ]
  },
  {
   "cell_type": "code",
   "execution_count": 6,
   "metadata": {},
   "outputs": [
    {
     "name": "stdout",
     "output_type": "stream",
     "text": [
      "my name is \n"
     ]
    }
   ],
   "source": [
    "# Remove some word from string\n",
    "string = input(\"Enter a string: \")\n",
    "removed_word = input(\"Enter a word to remove: \")\n",
    "string = string.replace(removed_word,'')\n",
    "print(string)"
   ]
  },
  {
   "cell_type": "code",
   "execution_count": 7,
   "metadata": {},
   "outputs": [
    {
     "name": "stdout",
     "output_type": "stream",
     "text": [
      "['my', 'name', 'is', 'augustus']\n"
     ]
    }
   ],
   "source": [
    "# Display every word of string\n",
    "string = input(\"Enter a string: \")\n",
    "string = string.split(\" \")\n",
    "print(string)"
   ]
  },
  {
   "cell_type": "code",
   "execution_count": 9,
   "metadata": {},
   "outputs": [
    {
     "name": "stdout",
     "output_type": "stream",
     "text": [
      "3\n"
     ]
    }
   ],
   "source": [
    "# Display num of words\n",
    "string = input(\"Enter a string: \")\n",
    "count = string.count(' ')\n",
    "print(count)"
   ]
  },
  {
   "cell_type": "code",
   "execution_count": 16,
   "metadata": {},
   "outputs": [
    {
     "name": "stdout",
     "output_type": "stream",
     "text": [
      "my name is augustus, i have 23 years old, i love programming,\n",
      "i want to be successful in my career,\n",
      "and i wish i can achieving all my dreams.\n"
     ]
    }
   ],
   "source": [
    "# Read text file \n",
    "file = open('data.txt','r')  # r -> reding  \n",
    "string = file.read()\n",
    "print(string)"
   ]
  },
  {
   "cell_type": "code",
   "execution_count": 24,
   "metadata": {},
   "outputs": [],
   "source": [
    "# Write text file \n",
    "f = open(\"data.txt\", \"a\") # a -> writing on current data\n",
    "f.writelines([\"\\nSee you soon! Over and out.\"])\n",
    "f.close()"
   ]
  },
  {
   "cell_type": "code",
   "execution_count": 23,
   "metadata": {},
   "outputs": [],
   "source": [
    "# Write text file \n",
    "f = open(\"data.txt\", \"w\") # w -> deleting previous and writing \n",
    "f.writelines([\"\\nSee you soon! Over and out.\"])\n",
    "f.close()"
   ]
  },
  {
   "cell_type": "code",
   "execution_count": 27,
   "metadata": {},
   "outputs": [],
   "source": [
    "# Write string with replace \n",
    "string = input('Enter string:').replace(' ',',')\n",
    "text = open('myFile.txt','w')\n",
    "text.writelines([string])\n",
    "text.close()"
   ]
  },
  {
   "cell_type": "code",
   "execution_count": 136,
   "metadata": {},
   "outputs": [
    {
     "name": "stdout",
     "output_type": "stream",
     "text": [
      "****\n"
     ]
    }
   ],
   "source": [
    "# Print all words that do not belong to text file\n",
    "myFile = open(\"data.txt\",\"r\")\n",
    "text = myFile.read()\n",
    "\n",
    "textFiltered = text.replace(' ',',').replace('\\n',',')\n",
    "listOfWords = list(set(textFiltered.split(',')))\n",
    "inputText = input('Enter a string:')\n",
    "inputTextList = inputText.split(' ')\n",
    "for i in listOfWords:\n",
    "    if i in inputTextList:\n",
    "        inputText = inputText.replace(i,'*').replace(' ','')\n",
    "print(inputText)        "
   ]
  },
  {
   "cell_type": "code",
   "execution_count": 157,
   "metadata": {},
   "outputs": [
    {
     "name": "stdout",
     "output_type": "stream",
     "text": [
      "ies wantes toes sleepinges\n"
     ]
    }
   ],
   "source": [
    "# Convert every word to present Simple\n",
    "list = input('Enter a string: ').split(' ')\n",
    "string = ''\n",
    "for i in list :\n",
    "    if i.endswith('e'):\n",
    "        i+='s'\n",
    "    else:\n",
    "        i+='es'        \n",
    "    string += i+' '\n",
    "string = string.strip()    \n",
    "print (string)    "
   ]
  }
 ],
 "metadata": {
  "kernelspec": {
   "display_name": "Python 3.8.8 ('base')",
   "language": "python",
   "name": "python3"
  },
  "language_info": {
   "codemirror_mode": {
    "name": "ipython",
    "version": 3
   },
   "file_extension": ".py",
   "mimetype": "text/x-python",
   "name": "python",
   "nbconvert_exporter": "python",
   "pygments_lexer": "ipython3",
   "version": "3.8.8"
  },
  "orig_nbformat": 4,
  "vscode": {
   "interpreter": {
    "hash": "53d50ed1839d2292cfd39f0644d59e889da85062f836d8db82f8d3a293c0c3a5"
   }
  }
 },
 "nbformat": 4,
 "nbformat_minor": 2
}
