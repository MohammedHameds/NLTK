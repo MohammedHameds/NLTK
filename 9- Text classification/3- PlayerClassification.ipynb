{
 "cells": [
  {
   "cell_type": "code",
   "execution_count": 2,
   "metadata": {},
   "outputs": [],
   "source": [
    "import csv\n",
    "import random\n",
    "from nltk import NaiveBayesClassifier\n",
    "from nltk.classify import accuracy\n",
    "import pandas as pd"
   ]
  },
  {
   "cell_type": "code",
   "execution_count": null,
   "metadata": {},
   "outputs": [],
   "source": [
    "data = pd.read_csv(\"Lec9_Corpus_Reader.csv\" ,  names=['index','height','weight','label'])"
   ]
  },
  {
   "cell_type": "code",
   "execution_count": 34,
   "metadata": {},
   "outputs": [],
   "source": [
    "dataset = [ ((data.height[i], data.weight[i]) ,data.label[i]) for i in range(len(data))] \n",
    "random.shuffle(dataset)"
   ]
  },
  {
   "cell_type": "code",
   "execution_count": null,
   "metadata": {},
   "outputs": [],
   "source": [
    "def read_data_labeled():\n",
    "    data_set = []\n",
    "    file = open(\"Lec9_Corpus_Reader.csv\", \"r\", encoding=\"utf-8\")\n",
    "    reviews = csv.reader(file)\n",
    "    for ID, height, weight, label in reviews:\n",
    "        data_set.append(((height, weight), label))\n",
    "    random.shuffle(data_set)\n",
    "    return data_set\n",
    "\n",
    "\n",
    "\n",
    "file = read_data_labeled()\n",
    "file\n"
   ]
  },
  {
   "cell_type": "code",
   "execution_count": 36,
   "metadata": {},
   "outputs": [],
   "source": [
    "def player_features(data):\n",
    "    return {'Height': data[0],\n",
    "            'Weight': data[1]}"
   ]
  },
  {
   "cell_type": "code",
   "execution_count": 38,
   "metadata": {},
   "outputs": [
    {
     "name": "stdout",
     "output_type": "stream",
     "text": [
      "1000\n",
      "Basket with accuracy: 70.6%\n"
     ]
    }
   ],
   "source": [
    "\n",
    "feature_sets = [(player_features(n), typeOfPlay) for (n, typeOfPlay) in dataset]\n",
    "\n",
    "train_set, test_set = feature_sets[:500], feature_sets[500:]\n",
    "classifier = NaiveBayesClassifier.train(train_set)\n",
    "acc = accuracy(classifier, test_set)\n",
    "testData = [None] * 2\n",
    "testData[0], testData[1] = int(input(\"Enter Height: \")), int(input(\"Enter Weight: \"))\n",
    "print(classifier.classify(player_features(testData)) + \" with accuracy: \" + str(acc * 100) + \"%\")\n",
    "\n"
   ]
  }
 ],
 "metadata": {
  "interpreter": {
   "hash": "53d50ed1839d2292cfd39f0644d59e889da85062f836d8db82f8d3a293c0c3a5"
  },
  "kernelspec": {
   "display_name": "Python 3.8.8 ('base')",
   "language": "python",
   "name": "python3"
  },
  "language_info": {
   "codemirror_mode": {
    "name": "ipython",
    "version": 3
   },
   "file_extension": ".py",
   "mimetype": "text/x-python",
   "name": "python",
   "nbconvert_exporter": "python",
   "pygments_lexer": "ipython3",
   "version": "3.8.8"
  },
  "orig_nbformat": 4
 },
 "nbformat": 4,
 "nbformat_minor": 2
}
