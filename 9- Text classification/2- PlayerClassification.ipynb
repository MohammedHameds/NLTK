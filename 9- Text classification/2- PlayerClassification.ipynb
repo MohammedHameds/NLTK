{
 "cells": [
  {
   "cell_type": "code",
   "execution_count": 1,
   "metadata": {},
   "outputs": [],
   "source": [
    "import nltk\n",
    "from nltk.classify import NaiveBayesClassifier,accuracy\n",
    "import random\n",
    "import pickle"
   ]
  },
  {
   "cell_type": "code",
   "execution_count": 2,
   "metadata": {},
   "outputs": [],
   "source": [
    "def player_features(data):\n",
    "    return({'Height':data[0], 'Width':data[1]})"
   ]
  },
  {
   "cell_type": "code",
   "execution_count": 3,
   "metadata": {},
   "outputs": [],
   "source": [
    "data_football = [[round(float(i.split('\\t')[0])),round(float(i.split('\\t')[1]))] for i in open('Football.txt','r').read().split('\\n')][:1000]\n",
    "data_basketball = [[round(float(i.split('\\t')[0])),round(float(i.split('\\t')[1]))] for i in open('Basket.txt','r').read().split('\\n')][:1000]\n",
    "data_somo = [[round(float(i.split('\\t')[0])),round(float(i.split('\\t')[1]))] for i in open('somo.txt','r').read().split('\\n')][:1000]\n",
    "data_swiming = [m for m in [i.split('\\t') for i in open('swiming.txt','r').read().split('\\n')] if m[0] != 'NA' and m[1] != 'NA'][:1000]"
   ]
  },
  {
   "cell_type": "code",
   "execution_count": 4,
   "metadata": {},
   "outputs": [],
   "source": [
    "features = (    [[player_features(i),'Football'] for i in data_football] \n",
    "                + [[player_features(i),'Basketball'] for i in data_basketball]\n",
    "                + [[player_features(i),'Somo'] for i in data_somo]\n",
    "                + [[player_features(i),'Swiming'] for i in data_swiming] )\n",
    "\n",
    "random.shuffle(features)\n",
    "train_set,test_set = features[:3000],features[3000:]"
   ]
  },
  {
   "cell_type": "code",
   "execution_count": 5,
   "metadata": {},
   "outputs": [],
   "source": [
    "classifier = NaiveBayesClassifier.train(train_set)\n",
    "acc = accuracy(classifier,test_set)"
   ]
  },
  {
   "cell_type": "code",
   "execution_count": 6,
   "metadata": {},
   "outputs": [
    {
     "name": "stdout",
     "output_type": "stream",
     "text": [
      "Basketball with accuracy 93%\n"
     ]
    }
   ],
   "source": [
    "input_height = input('Enter player height: ')\n",
    "input_width = input('Enter player width: ')\n",
    "player_classifier = classifier.classify(player_features([input_height,input_width]))\n",
    "print(player_classifier + ' with accuracy '+str(round(acc*100))+'%')"
   ]
  },
  {
   "cell_type": "code",
   "execution_count": 7,
   "metadata": {},
   "outputs": [],
   "source": [
    "save_classifier = open('saved_classifier.pickle','wb')\n",
    "pickle.dump(classifier,save_classifier)\n",
    "save_classifier.close()"
   ]
  },
  {
   "cell_type": "code",
   "execution_count": 8,
   "metadata": {},
   "outputs": [],
   "source": [
    "classifier_f = open('saved_classifier.pickle','rb')\n",
    "classifer = pickle.load(classifier_f)\n",
    "classifier_f.close()"
   ]
  },
  {
   "cell_type": "code",
   "execution_count": 9,
   "metadata": {},
   "outputs": [
    {
     "name": "stdout",
     "output_type": "stream",
     "text": [
      "Most Informative Features\n",
      "                  Height = 165              Somo : Footba =     28.8 : 1.0\n",
      "                  Height = 168              Somo : Footba =     24.9 : 1.0\n",
      "                  Height = 170              Somo : Footba =     18.1 : 1.0\n",
      "                  Height = 160              Somo : Basket =     15.3 : 1.0\n",
      "                   Width = 141            Footba : Basket =     13.6 : 1.0\n",
      "                   Width = 136            Footba : Basket =      9.0 : 1.0\n",
      "                   Width = 143            Footba : Basket =      9.0 : 1.0\n",
      "                   Width = 90             Footba : Basket =      9.0 : 1.0\n",
      "                  Height = 203            Basket : Footba =      8.2 : 1.0\n",
      "                  Height = 178            Footba : Basket =      8.2 : 1.0\n"
     ]
    }
   ],
   "source": [
    "classifer.show_most_informative_features()"
   ]
  }
 ],
 "metadata": {
  "interpreter": {
   "hash": "53d50ed1839d2292cfd39f0644d59e889da85062f836d8db82f8d3a293c0c3a5"
  },
  "kernelspec": {
   "display_name": "Python 3.8.8 ('base')",
   "language": "python",
   "name": "python3"
  },
  "language_info": {
   "codemirror_mode": {
    "name": "ipython",
    "version": 3
   },
   "file_extension": ".py",
   "mimetype": "text/x-python",
   "name": "python",
   "nbconvert_exporter": "python",
   "pygments_lexer": "ipython3",
   "version": "3.8.8"
  },
  "orig_nbformat": 4
 },
 "nbformat": 4,
 "nbformat_minor": 2
}
