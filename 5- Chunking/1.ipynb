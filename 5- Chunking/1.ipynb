{
 "cells": [
  {
   "cell_type": "code",
   "execution_count": 12,
   "metadata": {},
   "outputs": [],
   "source": [
    "import nltk\n",
    "from nltk.tokenize import sent_tokenize, word_tokenize\n",
    "from nltk.corpus import stopwords\n",
    "from nltk.stem import PorterStemmer\n",
    "from nltk import pos_tag\n",
    "from nltk import RegexpParser\n",
    "from nltk import ne_chunk\n",
    "from nltk.chunk import tree2conlltags,conlltags2tree"
   ]
  },
  {
   "cell_type": "code",
   "execution_count": 20,
   "metadata": {},
   "outputs": [
    {
     "name": "stdout",
     "output_type": "stream",
     "text": [
      "PERSON :\n",
      " ['Yellow', 'Eastern', 'Malaria', 'Female', 'Dengue', 'Mosquito', 'Saint', 'Pacific', 'Mosquitoes', 'Male', 'Children', 'Victims', 'Adult']\n",
      "ORGANIZATION :\n",
      " ['Pacific', 'World', 'DDT', 'Central']\n",
      "GPE :\n",
      " ['Africa', 'South', 'Middle', 'India', 'Japanese', 'Asia', 'United', 'Asian']\n",
      "LOCATION :\n",
      " ['West', 'Caribbean']\n"
     ]
    }
   ],
   "source": [
    "txt=open('mosquitoes.txt','r').read()\n",
    "tags=pos_tag(word_tokenize(txt))\n",
    "\n",
    "chunck = tree2conlltags(ne_chunk(tags))\n",
    "\n",
    "PERSON = list(set([i[0] for i in chunck if i[2] == 'B-PERSON' ]))\n",
    "ORGANIZATION = list(set([i[0] for i in chunck if i[2] == 'B-ORGANIZATION' ]))\n",
    "GPE = list(set( [i[0] for i in chunck if i[2] == 'B-GPE' ]))\n",
    "LOCATION =  list(set([i[0] for i in chunck if i[2] == 'B-LOCATION' ]))\n",
    "# conlltags2tree (chunck).draw()\n",
    "\n",
    "print('PERSON :\\n',PERSON)\n",
    "print('ORGANIZATION :\\n',ORGANIZATION)\n",
    "print('GPE :\\n',GPE)\n",
    "print('LOCATION :\\n',LOCATION)"
   ]
  }
 ],
 "metadata": {
  "interpreter": {
   "hash": "53d50ed1839d2292cfd39f0644d59e889da85062f836d8db82f8d3a293c0c3a5"
  },
  "kernelspec": {
   "display_name": "Python 3.8.8 ('base')",
   "language": "python",
   "name": "python3"
  },
  "language_info": {
   "codemirror_mode": {
    "name": "ipython",
    "version": 3
   },
   "file_extension": ".py",
   "mimetype": "text/x-python",
   "name": "python",
   "nbconvert_exporter": "python",
   "pygments_lexer": "ipython3",
   "version": "3.8.8"
  },
  "orig_nbformat": 4
 },
 "nbformat": 4,
 "nbformat_minor": 2
}
