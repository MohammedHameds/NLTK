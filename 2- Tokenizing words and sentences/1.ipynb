{
 "cells": [
  {
   "cell_type": "code",
   "execution_count": 58,
   "metadata": {},
   "outputs": [],
   "source": [
    "import nltk\n",
    "from nltk import sent_tokenize ,word_tokenize\n",
    "from nltk.corpus import stopwords\n",
    "from nltk.stem import PorterStemmer\n",
    "from nltk import pos_tag"
   ]
  },
  {
   "cell_type": "code",
   "execution_count": 17,
   "metadata": {},
   "outputs": [
    {
     "name": "stdout",
     "output_type": "stream",
     "text": [
      "Egypt is a country in North Africa.Most of Egypt is desert.The longest river in the world,the Nile,runs through Egypt providing areas of very lush green.\"Lush\" means full and healthy. \n",
      "Egypt is often thought of as one of the longest inhabited countries in the world.\n"
     ]
    }
   ],
   "source": [
    "file = open('ourData.txt', 'r').read()\n",
    "print(file)"
   ]
  },
  {
   "cell_type": "code",
   "execution_count": 16,
   "metadata": {},
   "outputs": [
    {
     "name": "stdout",
     "output_type": "stream",
     "text": [
      "['Egypt is a country in North Africa.Most of Egypt is desert.The longest river in the world,the Nile,runs through Egypt providing areas of very lush green.', '\"Lush\" means full and healthy.', 'Egypt is often thought of as one of the longest inhabited countries in the world.']\n"
     ]
    }
   ],
   "source": [
    "stk = sent_tokenize(file)\n",
    "print(stk)"
   ]
  },
  {
   "cell_type": "code",
   "execution_count": 43,
   "metadata": {},
   "outputs": [
    {
     "name": "stdout",
     "output_type": "stream",
     "text": [
      "['Egypt', 'is', 'a', 'country', 'in', 'North', 'Africa.Most', 'of', 'Egypt', 'is', 'desert.The', 'longest', 'river', 'in', 'the', 'world', ',', 'the', 'Nile', ',', 'runs', 'through', 'Egypt', 'providing', 'areas', 'of', 'very', 'lush', 'green', '.', '``', 'Lush', \"''\", 'means', 'full', 'and', 'healthy', '.', 'Egypt', 'is', 'often', 'thought', 'of', 'as', 'one', 'of', 'the', 'longest', 'inhabited', 'countries', 'in', 'the', 'world', '.']\n"
     ]
    }
   ],
   "source": [
    "wtk = word_tokenize(file)\n",
    "print(wtk)"
   ]
  },
  {
   "cell_type": "code",
   "execution_count": 44,
   "metadata": {},
   "outputs": [
    {
     "name": "stdout",
     "output_type": "stream",
     "text": [
      "['i', 'me', 'my', 'myself', 'we', 'our', 'ours', 'ourselves', 'you', \"you're\", \"you've\", \"you'll\", \"you'd\", 'your', 'yours', 'yourself', 'yourselves', 'he', 'him', 'his', 'himself', 'she', \"she's\", 'her', 'hers', 'herself', 'it', \"it's\", 'its', 'itself', 'they', 'them', 'their', 'theirs', 'themselves', 'what', 'which', 'who', 'whom', 'this', 'that', \"that'll\", 'these', 'those', 'am', 'is', 'are', 'was', 'were', 'be', 'been', 'being', 'have', 'has', 'had', 'having', 'do', 'does', 'did', 'doing', 'a', 'an', 'the', 'and', 'but', 'if', 'or', 'because', 'as', 'until', 'while', 'of', 'at', 'by', 'for', 'with', 'about', 'against', 'between', 'into', 'through', 'during', 'before', 'after', 'above', 'below', 'to', 'from', 'up', 'down', 'in', 'out', 'on', 'off', 'over', 'under', 'again', 'further', 'then', 'once', 'here', 'there', 'when', 'where', 'why', 'how', 'all', 'any', 'both', 'each', 'few', 'more', 'most', 'other', 'some', 'such', 'no', 'nor', 'not', 'only', 'own', 'same', 'so', 'than', 'too', 'very', 's', 't', 'can', 'will', 'just', 'don', \"don't\", 'should', \"should've\", 'now', 'd', 'll', 'm', 'o', 're', 've', 'y', 'ain', 'aren', \"aren't\", 'couldn', \"couldn't\", 'didn', \"didn't\", 'doesn', \"doesn't\", 'hadn', \"hadn't\", 'hasn', \"hasn't\", 'haven', \"haven't\", 'isn', \"isn't\", 'ma', 'mightn', \"mightn't\", 'mustn', \"mustn't\", 'needn', \"needn't\", 'shan', \"shan't\", 'shouldn', \"shouldn't\", 'wasn', \"wasn't\", 'weren', \"weren't\", 'won', \"won't\", 'wouldn', \"wouldn't\"]\n"
     ]
    }
   ],
   "source": [
    "stop_words = stopwords.words('english') #german, arabic, french\n",
    "print(stop_words)"
   ]
  },
  {
   "cell_type": "code",
   "execution_count": 48,
   "metadata": {},
   "outputs": [
    {
     "name": "stdout",
     "output_type": "stream",
     "text": [
      "54\n",
      "35\n",
      "['Egypt', 'country', 'North', 'Africa.Most', 'Egypt', 'desert.The', 'longest', 'river', 'world', ',', 'Nile', ',', 'runs', 'Egypt', 'providing', 'areas', 'lush', 'green', '.', '``', 'Lush', \"''\", 'means', 'full', 'healthy', '.', 'Egypt', 'often', 'thought', 'one', 'longest', 'inhabited', 'countries', 'world', '.']\n"
     ]
    }
   ],
   "source": [
    "wtk_without_stopwords = [i for i in wtk if i not in stop_words]\n",
    "\n",
    "print(len(wtk))\n",
    "print(len(wtk_without_stopwords))\n",
    "print(wtk_without_stopwords)"
   ]
  },
  {
   "cell_type": "code",
   "execution_count": 61,
   "metadata": {},
   "outputs": [
    {
     "name": "stdout",
     "output_type": "stream",
     "text": [
      "Egypt - egypt\n",
      "country - countri\n",
      "North - north\n",
      "Africa.Most - africa.most\n",
      "Egypt - egypt\n",
      "desert.The - desert.th\n",
      "longest - longest\n",
      "river - river\n",
      "world - world\n",
      ", - ,\n"
     ]
    }
   ],
   "source": [
    "ps = PorterStemmer()\n",
    "sample_list = wtk_without_stopwords[:10]\n",
    "ps_list = [ps.stem(sample_list[i]) for i in range(10)]\n",
    "\n",
    "for i in range(10):\n",
    "    print(sample_list[i],'-',ps_list[i])"
   ]
  },
  {
   "cell_type": "code",
   "execution_count": 62,
   "metadata": {},
   "outputs": [
    {
     "name": "stdout",
     "output_type": "stream",
     "text": [
      "[('Egypt', 'NNP'), ('country', 'NN'), ('North', 'NNP'), ('Africa.Most', 'NNP'), ('Egypt', 'NNP'), ('desert.The', 'NN'), ('longest', 'JJS'), ('river', 'NN'), ('world', 'NN'), (',', ',')]\n"
     ]
    }
   ],
   "source": [
    "tags = pos_tag(sample_list)\n",
    "print(tags) "
   ]
  }
 ],
 "metadata": {
  "kernelspec": {
   "display_name": "Python 3.8.8 ('base')",
   "language": "python",
   "name": "python3"
  },
  "language_info": {
   "codemirror_mode": {
    "name": "ipython",
    "version": 3
   },
   "file_extension": ".py",
   "mimetype": "text/x-python",
   "name": "python",
   "nbconvert_exporter": "python",
   "pygments_lexer": "ipython3",
   "version": "3.8.8"
  },
  "orig_nbformat": 4,
  "vscode": {
   "interpreter": {
    "hash": "53d50ed1839d2292cfd39f0644d59e889da85062f836d8db82f8d3a293c0c3a5"
   }
  }
 },
 "nbformat": 4,
 "nbformat_minor": 2
}
