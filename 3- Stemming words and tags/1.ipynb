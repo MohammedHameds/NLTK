{
 "cells": [
  {
   "cell_type": "code",
   "execution_count": 1,
   "metadata": {},
   "outputs": [],
   "source": [
    "import nltk \n",
    "from nltk import sent_tokenize,word_tokenize\n",
    "from nltk.corpus import stopwords\n",
    "from nltk.stem import PorterStemmer\n",
    "from nltk import pos_tag\n",
    "import string \n"
   ]
  },
  {
   "cell_type": "code",
   "execution_count": 2,
   "metadata": {},
   "outputs": [
    {
     "name": "stdout",
     "output_type": "stream",
     "text": [
      "Egypt is a country in North Africa.Most of Egypt is desert.The longest river in the world,the Nile,runs through Egypt providing areas of very lush green.\"Lush\" means full and healthy. \n",
      "Egypt is often thought of as one of the longest inhabited countries in the world.\"Inhabited\" means that people live there.People have lived in Egypt for 8000 years,since 6000 BC.For much of this time,Egypt was the most powerful country in the world.It had the strongest government of any civilization at the time.A \"civilization\" is a group of people who live together and have the same culture. \n",
      "The Nile river is thought to be the most important element (part) of why the ancient Egyptian civilization was so successful. Thanks to the richness of the soil and the available water, Egyptians were able to have abundant supplies of food and animals. \"Abundant\" means a lot of something.\n",
      "The ancient Egyptians created many impressive buildings. What is perhaps most impressive is that they built these structures (buildings) without the help of the machines we have today. \n",
      "Some of the most famous structures the ancient Egyptians built were the pyramids.\n"
     ]
    }
   ],
   "source": [
    "file = open('ourData.txt','r').read()\n",
    "print(file)"
   ]
  },
  {
   "cell_type": "code",
   "execution_count": 3,
   "metadata": {},
   "outputs": [],
   "source": [
    "#Extract ONLY past sentences and print them.\n",
    "stk = sent_tokenize(file)\n",
    "list_of_sents = []\n",
    "\n",
    "for i in stk:\n",
    "    for j in pos_tag(word_tokenize(i)):\n",
    "       if j[1] == 'VBN' or j[1] == 'VBP' :\n",
    "           list_of_sents.append(i)\n",
    "\n",
    "list_of_sents = list(set(list_of_sents))     \n",
    "print(list_of_sents)"
   ]
  },
  {
   "cell_type": "code",
   "execution_count": null,
   "metadata": {},
   "outputs": [
    {
     "name": "stdout",
     "output_type": "stream",
     "text": [
      "['Egypt is a country in North Africa.Most of Egypt is desert.The longest river in the world,the Nile,runs through Egypt providing areas of very lush green.', 'Egypt is often thought of as one of the longest inhabited countries in the world.', '\"Inhabited\" means that people live there.People have lived in Egypt for 8000 years,since 6000 BC.For much of this time,Egypt was the most powerful country in the world.It had the strongest government of any civilization at the time.A \"civilization\" is a group of people who live together and have the same culture.']\n"
     ]
    }
   ],
   "source": [
    "punk = string.punctuation \n",
    "stop_words = stopwords.words('english')\n",
    "\n",
    "input_text = input('Enter a text to search for :').lower()\n",
    "query = [i for i in word_tokenize(input_text) if not i in stop_words and i not in punk]\n",
    "\n",
    "ps = PorterStemmer()\n",
    "filtered_input_text = [ps.stem(i) for i in query]\n",
    "\n",
    "output_list = []\n",
    "stk = sent_tokenize(file)\n",
    "list_of_sents = []\n",
    "for i in stk :\n",
    "    words = word_tokenize(i)    \n",
    "    steming_sent = [ps.stem(j) for j in words]\n",
    "    if (set(filtered_input_text).issubset(steming_sent)) :\n",
    "        output_list.append(i)\n",
    "\n",
    "print(output_list)        "
   ]
  },
  {
   "cell_type": "code",
   "execution_count": null,
   "metadata": {},
   "outputs": [
    {
     "name": "stdout",
     "output_type": "stream",
     "text": [
      "Egypt is a country in North Africa.Most of Egypt is desert.The longest river in the world,the Nile,runs through Egypt providing areas of very lush green.\n"
     ]
    }
   ],
   "source": [
    "max = 0\n",
    "selected_sent = ''\n",
    "\n",
    "stk = sent_tokenize(file)\n",
    "for i in stk :\n",
    "    count = 0\n",
    "    for j in pos_tag(word_tokenize(i)):\n",
    "        if j[1].startswith('JJ') :\n",
    "            count += 1\n",
    "    if count > max :\n",
    "        max = count \n",
    "        selected_sent = i\n",
    "\n",
    "print(selected_sent)            "
   ]
  }
 ],
 "metadata": {
  "kernelspec": {
   "display_name": "Python 3.8.8 ('base')",
   "language": "python",
   "name": "python3"
  },
  "language_info": {
   "codemirror_mode": {
    "name": "ipython",
    "version": 3
   },
   "file_extension": ".py",
   "mimetype": "text/x-python",
   "name": "python",
   "nbconvert_exporter": "python",
   "pygments_lexer": "ipython3",
   "version": "3.8.8"
  },
  "orig_nbformat": 4,
  "vscode": {
   "interpreter": {
    "hash": "53d50ed1839d2292cfd39f0644d59e889da85062f836d8db82f8d3a293c0c3a5"
   }
  }
 },
 "nbformat": 4,
 "nbformat_minor": 2
}
