{
 "cells": [
  {
   "cell_type": "code",
   "execution_count": 87,
   "metadata": {},
   "outputs": [],
   "source": [
    "import nltk\n",
    "from nltk import sent_tokenize,word_tokenize\n",
    "from nltk.corpus import stopwords\n",
    "from nltk.tag import pos_tag\n",
    "from nltk import ne_chunk\n",
    "from nltk.chunk import tree2conlltags,conlltags2tree"
   ]
  },
  {
   "cell_type": "code",
   "execution_count": 88,
   "metadata": {},
   "outputs": [],
   "source": [
    "FILE = open('txtQuiz.txt','r').read()"
   ]
  },
  {
   "cell_type": "code",
   "execution_count": 89,
   "metadata": {},
   "outputs": [],
   "source": [
    "def get_Details(file):\n",
    "    output = []\n",
    "    stk = sent_tokenize(file)\n",
    "    for i in stk :\n",
    "        employee_details = ['No NAME','No COMPANY','No COUNTRY']\n",
    "                \n",
    "        words = word_tokenize(i)\n",
    "        wtk = word_tokenize(i)\n",
    "        tags = pos_tag(words)\n",
    "        chunk = tree2conlltags(ne_chunk(tags))\n",
    "        for j in chunk :\n",
    "            if j[2] == 'B-PERSON': employee_details[0] = j[0]\n",
    "            if j[2] == 'B-ORGANIZATION': employee_details[1] = j[0]        \n",
    "            if j[2] == 'B-GPE': employee_details[2] = j[0]                \n",
    "        output.append(employee_details)\n",
    "    return(output)           "
   ]
  },
  {
   "cell_type": "code",
   "execution_count": 90,
   "metadata": {},
   "outputs": [
    {
     "name": "stdout",
     "output_type": "stream",
     "text": [
      "['Salma', 'IBM', 'Egypt']\n",
      "['Khaled', 'Microsoft', 'Spain']\n",
      "['Shahd', 'NASA', 'France']\n",
      "['Hossam', 'IBM', 'Qatar']\n",
      "['No NAME', 'No COMPANY', 'Italy']\n"
     ]
    }
   ],
   "source": [
    "OUTPUT = get_Details(FILE)   \n",
    "for i in OUTPUT :\n",
    "    print(i)"
   ]
  }
 ],
 "metadata": {
  "kernelspec": {
   "display_name": "Python 3.8.8 ('base')",
   "language": "python",
   "name": "python3"
  },
  "language_info": {
   "codemirror_mode": {
    "name": "ipython",
    "version": 3
   },
   "file_extension": ".py",
   "mimetype": "text/x-python",
   "name": "python",
   "nbconvert_exporter": "python",
   "pygments_lexer": "ipython3",
   "version": "3.8.8"
  },
  "orig_nbformat": 4,
  "vscode": {
   "interpreter": {
    "hash": "53d50ed1839d2292cfd39f0644d59e889da85062f836d8db82f8d3a293c0c3a5"
   }
  }
 },
 "nbformat": 4,
 "nbformat_minor": 2
}
