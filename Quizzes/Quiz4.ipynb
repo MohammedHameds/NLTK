{
 "cells": [
  {
   "cell_type": "markdown",
   "metadata": {},
   "source": [
    "#### Takes a string from the user and print the sentences that contain its words directly or one of its words or its Synonyms and antonyms \n"
   ]
  },
  {
   "cell_type": "code",
   "execution_count": 139,
   "metadata": {},
   "outputs": [],
   "source": [
    "from nltk import sent_tokenize,word_tokenize\n",
    "from nltk.stem import PorterStemmer\n",
    "from nltk.corpus import wordnet,stopwords,inaugural\n",
    "import string "
   ]
  },
  {
   "cell_type": "code",
   "execution_count": 140,
   "metadata": {},
   "outputs": [],
   "source": [
    "def get_sentences (sentence,text) :\n",
    "   synonyms  = []\n",
    "   antonyms  = []\n",
    "   sentences = []\n",
    "   \n",
    "   punks = string.punctuation  \n",
    "   stopword = stopwords.words()\n",
    "   \n",
    "   ps = PorterStemmer()\n",
    "   words = [ps.stem(word) for word in word_tokenize(sentence.lower())]\n",
    "   for s in words :\n",
    "    if s in punks or s in stopword :\n",
    "      continue\n",
    "    synonyms.append(s)  \n",
    "    syns = wordnet.synsets(s)\n",
    "    for i in syns:\n",
    "        synonyms.append(i.lemmas()[0].name())\n",
    "        if i.lemmas()[0].antonyms() :\n",
    "            antonyms.append(i.lemmas()[0].antonyms()[0].name())\n",
    "            \n",
    "    synonyms = list(set(synonyms))\n",
    "    antonyms = list(set(antonyms))\n",
    "    stk = sent_tokenize(text)\n",
    "    \n",
    "    for sent in stk :\n",
    "        for word in word_tokenize(sent.lower()) :\n",
    "         if word in synonyms  :   \n",
    "           sentences.append(sent)       \n",
    "         if word in antonyms and word_tokenize(sent)[word_tokenize(sent).index(word)-1] == 'not':\n",
    "           sentences.append(sent)  \n",
    "            \n",
    "   return set(sentences)\n"
   ]
  },
  {
   "cell_type": "code",
   "execution_count": 141,
   "metadata": {},
   "outputs": [],
   "source": [
    "# text = 'Muhammad bought a big TV yesterday. He found his bag large. So he had to take not small car. he is a good man'\n",
    "text=inaugural.raw(inaugural.fileids()[0])\n"
   ]
  },
  {
   "cell_type": "code",
   "execution_count": 142,
   "metadata": {},
   "outputs": [
    {
     "name": "stdout",
     "output_type": "stream",
     "text": [
      "Input text : he is a good boy !\n",
      "---------------------\n",
      "On the one hand, I was summoned by my Country, whose voice I can never hear but with veneration and love, from a retreat which I had chosen with the fondest predilection, and, in my flattering hopes, with an immutable decision, as the asylum of my declining years -- a retreat which was rendered every day more necessary as well as more dear to me by the addition of habit to inclination, and of frequent interruptions in my health to the gradual waste committed on it by time.\n",
      "---------------------\n",
      "In tendering this homage to the Great Author of every public and private good, I assure myself that it expresses your sentiments not less than my own, nor those of my fellow citizens at large less than either.\n",
      "---------------------\n",
      "Instead of undertaking particular recommendations on this subject, in which I could be guided by no lights derived from official opportunities, I shall again give way to my entire confidence in your discernment and pursuit of the public good; for I assure myself that whilst you carefully avoid every alteration which might endanger the benefits of an united and effective government, or which ought to await the future lessons of experience, a reverence for the characteristic rights of freemen and a regard for the public harmony will sufficiently influence your deliberations on the question how far the former can be impregnably fortified or the latter be safely and advantageously promoted.\n",
      "---------------------\n",
      "From this resolution I have in no instance departed; and being still under the impressions which produced it, I must decline as inapplicable to myself any share in the personal emoluments which may be indispensably included in a permanent provision for the executive department, and must accordingly pray that the pecuniary estimates for the station in which I am placed may during my continuance in it be limited to such actual expenditures as the public good may be thought to require.\n",
      "---------------------\n",
      "All I dare hope is that if, in executing this task, I have been too much swayed by a grateful remembrance of former instances, or by an affectionate sensibility to this transcendent proof of the confidence of my fellow citizens, and have thence too little consulted my incapacity as well as disinclination for the weighty and untried cares before me, my error will be palliated by the motives which mislead me, and its consequences be judged by my country with some share of the partiality in which they originated.\n",
      "---------------------\n",
      "I dwell on this prospect with every satisfaction which an ardent love for my country can inspire, since there is no truth more thoroughly established than that there exists in the economy and course of nature an indissoluble union between virtue and happiness; between duty and advantage; between the genuine maxims of an honest and magnanimous policy and the solid rewards of public prosperity and felicity; since we ought to be no less persuaded that the propitious smiles of Heaven can never be expected on a nation that disregards the eternal rules of order and right which Heaven itself has ordained; and since the preservation of the sacred fire of liberty and the destiny of the republican model of government are justly considered, perhaps, as deeply, as finally, staked on the experiment entrusted to the hands of the American people.\n"
     ]
    }
   ],
   "source": [
    "input_text = input('Please enter a text to search: ')\n",
    "print('Input text :',input_text) \n",
    "\n",
    "sentences = get_sentences(input_text,text) \n",
    "for i in sentences :\n",
    "    print('---------------------')      \n",
    "    print(i)\n"
   ]
  }
 ],
 "metadata": {
  "kernelspec": {
   "display_name": "Python 3.8.8 ('base')",
   "language": "python",
   "name": "python3"
  },
  "language_info": {
   "codemirror_mode": {
    "name": "ipython",
    "version": 3
   },
   "file_extension": ".py",
   "mimetype": "text/x-python",
   "name": "python",
   "nbconvert_exporter": "python",
   "pygments_lexer": "ipython3",
   "version": "3.8.8"
  },
  "orig_nbformat": 4,
  "vscode": {
   "interpreter": {
    "hash": "53d50ed1839d2292cfd39f0644d59e889da85062f836d8db82f8d3a293c0c3a5"
   }
  }
 },
 "nbformat": 4,
 "nbformat_minor": 2
}
