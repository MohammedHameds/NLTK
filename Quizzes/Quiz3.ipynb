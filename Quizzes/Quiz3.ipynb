{
 "cells": [
  {
   "cell_type": "markdown",
   "metadata": {},
   "source": [
    "#### Sort all the events in ascending order, from oldest to most recent."
   ]
  },
  {
   "cell_type": "code",
   "execution_count": 19,
   "metadata": {},
   "outputs": [],
   "source": [
    "import nltk\n",
    "from nltk.tokenize import sent_tokenize,word_tokenize\n",
    "from nltk import pos_tag \n",
    "import calendar"
   ]
  },
  {
   "cell_type": "code",
   "execution_count": 20,
   "metadata": {},
   "outputs": [],
   "source": [
    "def sort_events(txt):   \n",
    "    stk = sent_tokenize(txt)\n",
    "    months = list(calendar.month_name)[1:] #to get rid of the first null value\n",
    "    events = []\n",
    "    \n",
    "    for i in stk:\n",
    "        words = word_tokenize(i)\n",
    "        tags = pos_tag(words)\n",
    "        unit = ['year',0,i]\n",
    "        for j in tags :\n",
    "         if j[1] == 'CD' :\n",
    "            unit[0]= j[0]\n",
    "         if j[1] ==  'NNP' and j[0] in months :\n",
    "            unit[1]= months.index(j[0])\n",
    "        events.append(unit)\n",
    "    return sorted(events)    \n"
   ]
  },
  {
   "cell_type": "code",
   "execution_count": 21,
   "metadata": {},
   "outputs": [
    {
     "name": "stdout",
     "output_type": "stream",
     "text": [
      "['1848', 0, 'Muhammad Ali was succeeded briefly by his son Ibrahim in 1848.']\n",
      "['1869', 0, 'The Suez Canal, built in partnership with the French, was completed in 1869.']\n",
      "['1875', 0, \"In 1875 Ismail was forced to sell Egypt's share in the canal to the British Government.\"]\n",
      "['1879', 0, 'Local dissatisfaction with Ismail and with European intrusion led to the formation of the first nationalist groupings in 1879.']\n",
      "['1906', 0, 'In 1906, the Dinshaway Incident prompted many neutral Egyptians to join the nationalist movement.']\n",
      "['1922', 1, \"The country arose in its first modern revolution.The revolt led the UK government to issue a unilateral declaration of Egypt's independence on February 1922.\"]\n",
      "['1923', 0, 'The new government drafted and implemented a constitution in 1923 based on a parliamentary system.']\n",
      "['1924', 0, 'Saad Zaghlul was popularly elected as Prime Minister of Egypt in 1924.']\n",
      "['1936', 0, 'In 1936, the Anglo-Egyptian Treaty was concluded.']\n",
      "['1953', 5, 'On June 1953, the Egyptian Republic was declared, with General Muhammad Naguib as the first President of the Republic.']\n",
      "['1954', 0, 'British military presence in Egypt lasted until 1954.']\n",
      "['1956', 2, 'He nationalized the Suez Canal on March 1956.']\n",
      "['1956', 5, 'British forces completed their withdrawal from the occupied Suez Canal Zone on June 1956.']\n",
      "['1956', 6, 'Nasser assumed power as President in July 1956.']\n",
      "['1958', 0, 'In 1958, Egypt and Syria formed a sovereign union known as the United Arab Republic.']\n"
     ]
    }
   ],
   "source": [
    "txt = open('Egypt.txt','r').read()\n",
    "for i in (sort_events(txt)) :\n",
    "    print(i)"
   ]
  }
 ],
 "metadata": {
  "kernelspec": {
   "display_name": "Python 3.8.8 ('base')",
   "language": "python",
   "name": "python3"
  },
  "language_info": {
   "codemirror_mode": {
    "name": "ipython",
    "version": 3
   },
   "file_extension": ".py",
   "mimetype": "text/x-python",
   "name": "python",
   "nbconvert_exporter": "python",
   "pygments_lexer": "ipython3",
   "version": "3.8.8"
  },
  "orig_nbformat": 4,
  "vscode": {
   "interpreter": {
    "hash": "53d50ed1839d2292cfd39f0644d59e889da85062f836d8db82f8d3a293c0c3a5"
   }
  }
 },
 "nbformat": 4,
 "nbformat_minor": 2
}
